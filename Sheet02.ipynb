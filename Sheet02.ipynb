{
 "cells": [
  {
   "cell_type": "code",
   "execution_count": null,
   "metadata": {},
   "outputs": [],
   "source": [
    "# Group Members: Noah Dyck, Christoph Schmidt, Jonathan Frohn\n",
    "# Solutions for Sheet 02:"
   ]
  },
  {
   "cell_type": "code",
   "execution_count": null,
   "metadata": {},
   "outputs": [],
   "source": [
    "\"\"\"\n",
    "Exercise 2:\n",
    "\"\"\""
   ]
  },
  {
   "cell_type": "code",
   "execution_count": 13,
   "metadata": {},
   "outputs": [],
   "source": [
    "# a)\n",
    "import numpy as np\n",
    "import matplotlib.pyplot as plt\n",
    "\n",
    "length = 100 #length of time series\n",
    "mean_gaussian_noise = 0\n",
    "std_gaussian_noise = 0.5 # mean and standarddeviation of gaussian noise\n",
    "time = np.arange(0, length, 0.1)\n",
    "\n",
    "mu1 = np.random.normal(mean_gaussian_noise, std_gaussian_noise, len(time))\n",
    "mu2 = np.random.normal(mean_gaussian_noise, std_gaussian_noise, len(time))\n",
    "mu3 = np.random.normal(mean_gaussian_noise, std_gaussian_noise, len(time))\n",
    "\n",
    "f1 = np.sin(time) + 0.001 * mu1\n",
    "f2 = 2 * (time - np.floor(time)) + 0.002 * mu2\n",
    "f3 = 0.01 * time + 0.001 * mu3\n"
   ]
  }
 ],
 "metadata": {
  "kernelspec": {
   "display_name": "Python 3",
   "language": "python",
   "name": "python3"
  },
  "language_info": {
   "codemirror_mode": {
    "name": "ipython",
    "version": 3
   },
   "file_extension": ".py",
   "mimetype": "text/x-python",
   "name": "python",
   "nbconvert_exporter": "python",
   "pygments_lexer": "ipython3",
   "version": "3.10.12 (main, Sep 11 2024, 15:47:36) [GCC 11.4.0]"
  },
  "orig_nbformat": 4,
  "vscode": {
   "interpreter": {
    "hash": "916dbcbb3f70747c44a77c7bcd40155683ae19c65e1c03b4aa3499c5328201f1"
   }
  }
 },
 "nbformat": 4,
 "nbformat_minor": 2
}
